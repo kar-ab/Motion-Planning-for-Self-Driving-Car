{
 "cells": [
  {
   "cell_type": "code",
   "execution_count": 41,
   "id": "cheap-diving",
   "metadata": {},
   "outputs": [
    {
     "name": "stdout",
     "output_type": "stream",
     "text": [
      "341.4351002752939\n",
      "338.6508375389974\n",
      "338.6508375389974\n",
      "1\n"
     ]
    }
   ],
   "source": [
    "import math\n",
    "import numpy as np\n",
    "\n",
    "waypoints =  [317.74, 129.49, 8.333], [314.7366565542898, 129.49, 8.333]\n",
    "ego_state = [ 1, 2, 3 ]\n",
    "\n",
    "min_idx = 0\n",
    "min_dist = float(\"inf\")\n",
    "\n",
    "for i in range(len(waypoints)):\n",
    "            dist = np.linalg.norm(np.array([\n",
    "                    waypoints[i][0] - ego_state[0],\n",
    "                    waypoints[i][1] - ego_state[1]]))\n",
    "            if dist < min_dist:\n",
    "                min_dist = dist              \n",
    "                min_idx = i\n",
    "                \n",
    "print(min_dist)\n",
    "print(min_idx)"
   ]
  }
 ],
 "metadata": {
  "kernelspec": {
   "display_name": "Python 3",
   "language": "python",
   "name": "python3"
  },
  "language_info": {
   "codemirror_mode": {
    "name": "ipython",
    "version": 3
   },
   "file_extension": ".py",
   "mimetype": "text/x-python",
   "name": "python",
   "nbconvert_exporter": "python",
   "pygments_lexer": "ipython3",
   "version": "3.6.9"
  }
 },
 "nbformat": 4,
 "nbformat_minor": 5
}
